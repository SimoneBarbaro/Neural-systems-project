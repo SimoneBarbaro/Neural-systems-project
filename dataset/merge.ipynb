{
 "cells": [
  {
   "cell_type": "code",
   "execution_count": 1,
   "metadata": {
    "colab": {},
    "colab_type": "code",
    "id": "x6gkiOUD4ovA"
   },
   "outputs": [],
   "source": [
    "import pandas as pd"
   ]
  },
  {
   "cell_type": "code",
   "execution_count": 23,
   "metadata": {},
   "outputs": [
    {
     "data": {
      "text/html": [
       "<div>\n",
       "<style scoped>\n",
       "    .dataframe tbody tr th:only-of-type {\n",
       "        vertical-align: middle;\n",
       "    }\n",
       "\n",
       "    .dataframe tbody tr th {\n",
       "        vertical-align: top;\n",
       "    }\n",
       "\n",
       "    .dataframe thead th {\n",
       "        text-align: right;\n",
       "    }\n",
       "</style>\n",
       "<table border=\"1\" class=\"dataframe\">\n",
       "  <thead>\n",
       "    <tr style=\"text-align: right;\">\n",
       "      <th></th>\n",
       "      <th>doc_id</th>\n",
       "      <th>result_id</th>\n",
       "      <th>text</th>\n",
       "    </tr>\n",
       "  </thead>\n",
       "  <tbody>\n",
       "    <tr>\n",
       "      <th>0</th>\n",
       "      <td>1421389</td>\n",
       "      <td>0</td>\n",
       "      <td>A 49-year-old Caucasian woman with a history o...</td>\n",
       "    </tr>\n",
       "    <tr>\n",
       "      <th>1</th>\n",
       "      <td>1421389</td>\n",
       "      <td>1</td>\n",
       "      <td>On admission, the patient's temperature was 3...</td>\n",
       "    </tr>\n",
       "    <tr>\n",
       "      <th>2</th>\n",
       "      <td>1421389</td>\n",
       "      <td>2</td>\n",
       "      <td>Treatment with intravenous dexamethasone, cef...</td>\n",
       "    </tr>\n",
       "    <tr>\n",
       "      <th>3</th>\n",
       "      <td>1421389</td>\n",
       "      <td>3</td>\n",
       "      <td>A diagnosis of CLL was confirmed by the expre...</td>\n",
       "    </tr>\n",
       "    <tr>\n",
       "      <th>4</th>\n",
       "      <td>1421389</td>\n",
       "      <td>4</td>\n",
       "      <td>Then, one month after discharge, she develope...</td>\n",
       "    </tr>\n",
       "  </tbody>\n",
       "</table>\n",
       "</div>"
      ],
      "text/plain": [
       "    doc_id  result_id                                               text\n",
       "0  1421389          0  A 49-year-old Caucasian woman with a history o...\n",
       "1  1421389          1   On admission, the patient's temperature was 3...\n",
       "2  1421389          2   Treatment with intravenous dexamethasone, cef...\n",
       "3  1421389          3   A diagnosis of CLL was confirmed by the expre...\n",
       "4  1421389          4   Then, one month after discharge, she develope..."
      ]
     },
     "execution_count": 23,
     "metadata": {},
     "output_type": "execute_result"
    }
   ],
   "source": [
    "results = pd.read_csv(\"results.csv\")\n",
    "results2 = pd.read_csv(\"results_auditory.csv\").drop(columns=\"Unnamed: 0\")\n",
    "results2.columns = results.columns\n",
    "results3 = pd.read_csv(\"results_bluetongue.csv\")\n",
    "results3.columns = results.columns\n",
    "results4 = pd.read_csv(\"results_melioidosis.csv\")\n",
    "results4.columns = results.columns\n",
    "results5 = pd.read_csv(\"results_reinforcement_learning.csv\").drop(columns=\"Unnamed: 0\")\n",
    "results5.columns = results.columns\n",
    "results6 = pd.read_csv(\"articles_res_malaria.csv\", sep=\"|\").drop(0)\n",
    "results6.columns = results.columns"
   ]
  },
  {
   "cell_type": "code",
   "execution_count": 37,
   "metadata": {},
   "outputs": [],
   "source": [
    "discussions = [pd.read_csv(\"discussions.csv\")]\n",
    "discussions.append(pd.read_csv(\"discussions_auditory.csv\").drop(columns=\"Unnamed: 0\"))\n",
    "discussions[-1].columns = discussions[0].columns\n",
    "discussions.append(pd.read_csv(\"discussions_bluetongue.csv\"))\n",
    "discussions[-1].columns = discussions[0].columns\n",
    "discussions.append(pd.read_csv(\"discussions_melioidosis.csv\"))\n",
    "discussions[-1].columns = discussions[0].columns\n",
    "discussions.append(pd.read_csv(\"discussions_reinforcement_learning.csv\").drop(columns=\"Unnamed: 0\"))\n",
    "discussions[-1].columns = discussions[0].columns\n",
    "discussions.append(pd.read_csv(\"articles_disc_malaria.csv\", sep=\"|\").drop(0))\n",
    "discussions[-1].columns = discussions[0].columns"
   ]
  },
  {
   "cell_type": "code",
   "execution_count": 39,
   "metadata": {},
   "outputs": [],
   "source": [
    "results = pd.concat([results, results2, results3, results4, results5, results6], ignore_index=True)"
   ]
  },
  {
   "cell_type": "code",
   "execution_count": 40,
   "metadata": {},
   "outputs": [],
   "source": [
    "discussions = pd.concat(discussions, ignore_index=True)"
   ]
  },
  {
   "cell_type": "code",
   "execution_count": 41,
   "metadata": {},
   "outputs": [],
   "source": [
    "pairs = pd.concat([pd.read_csv(\"pairs.csv\"), pd.read_csv(\"pairs_bluetongue.csv\"), pd.read_csv(\"pairs_melioidosis.csv\")])"
   ]
  },
  {
   "cell_type": "code",
   "execution_count": 49,
   "metadata": {},
   "outputs": [],
   "source": [
    "results[\"doc_id\"] = results[\"doc_id\"].astype('int32')\n",
    "discussions[\"doc_id\"] = discussions[\"doc_id\"].astype('int32')\n",
    "pairs[\"doc_id\"] = pairs[\"doc_id\"].astype('int32')"
   ]
  },
  {
   "cell_type": "code",
   "execution_count": 50,
   "metadata": {},
   "outputs": [],
   "source": [
    "results.to_csv(\"results.csv\", index=False, header=True)\n",
    "discussions.to_csv(\"discussions.csv\", index=False, header=True)\n",
    "pairs.to_csv(\"pairs.csv\", index=False, header=True)"
   ]
  },
  {
   "cell_type": "code",
   "execution_count": 56,
   "metadata": {},
   "outputs": [],
   "source": [
    "scores = [pd.read_csv(\"scores.csv\"), pd.read_csv(\"malaria_pairs_scores.csv\")]\n",
    "scores[-1].columns = scores[0].columns\n",
    "scores = pd.concat(scores, ignore_index=True)"
   ]
  },
  {
   "cell_type": "code",
   "execution_count": 57,
   "metadata": {},
   "outputs": [],
   "source": [
    "scores.to_csv(\"scores.csv\", index=False, header=True)"
   ]
  },
  {
   "cell_type": "code",
   "execution_count": null,
   "metadata": {},
   "outputs": [],
   "source": []
  }
 ],
 "metadata": {
  "colab": {
   "collapsed_sections": [],
   "machine_shape": "hm",
   "name": "Exemple_code_with_new_codebase.ipynb",
   "provenance": []
  },
  "kernelspec": {
   "display_name": "Python 3",
   "language": "python",
   "name": "python3"
  },
  "language_info": {
   "codemirror_mode": {
    "name": "ipython",
    "version": 3
   },
   "file_extension": ".py",
   "mimetype": "text/x-python",
   "name": "python",
   "nbconvert_exporter": "python",
   "pygments_lexer": "ipython3",
   "version": "3.5.3"
  }
 },
 "nbformat": 4,
 "nbformat_minor": 1
}
