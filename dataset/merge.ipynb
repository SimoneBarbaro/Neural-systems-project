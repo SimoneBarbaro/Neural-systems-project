{
 "cells": [
  {
   "cell_type": "code",
   "execution_count": 14,
   "metadata": {
    "colab": {},
    "colab_type": "code",
    "id": "x6gkiOUD4ovA"
   },
   "outputs": [],
   "source": [
    "import numpy as np\n",
    "import pandas as pd"
   ]
  },
  {
   "cell_type": "code",
   "execution_count": 23,
   "metadata": {},
   "outputs": [
    {
     "data": {
      "text/html": [
       "<div>\n",
       "<style scoped>\n",
       "    .dataframe tbody tr th:only-of-type {\n",
       "        vertical-align: middle;\n",
       "    }\n",
       "\n",
       "    .dataframe tbody tr th {\n",
       "        vertical-align: top;\n",
       "    }\n",
       "\n",
       "    .dataframe thead th {\n",
       "        text-align: right;\n",
       "    }\n",
       "</style>\n",
       "<table border=\"1\" class=\"dataframe\">\n",
       "  <thead>\n",
       "    <tr style=\"text-align: right;\">\n",
       "      <th></th>\n",
       "      <th>doc_id</th>\n",
       "      <th>result_id</th>\n",
       "      <th>text</th>\n",
       "    </tr>\n",
       "  </thead>\n",
       "  <tbody>\n",
       "    <tr>\n",
       "      <th>0</th>\n",
       "      <td>1421389</td>\n",
       "      <td>0</td>\n",
       "      <td>A 49-year-old Caucasian woman with a history o...</td>\n",
       "    </tr>\n",
       "    <tr>\n",
       "      <th>1</th>\n",
       "      <td>1421389</td>\n",
       "      <td>1</td>\n",
       "      <td>On admission, the patient's temperature was 3...</td>\n",
       "    </tr>\n",
       "    <tr>\n",
       "      <th>2</th>\n",
       "      <td>1421389</td>\n",
       "      <td>2</td>\n",
       "      <td>Treatment with intravenous dexamethasone, cef...</td>\n",
       "    </tr>\n",
       "    <tr>\n",
       "      <th>3</th>\n",
       "      <td>1421389</td>\n",
       "      <td>3</td>\n",
       "      <td>A diagnosis of CLL was confirmed by the expre...</td>\n",
       "    </tr>\n",
       "    <tr>\n",
       "      <th>4</th>\n",
       "      <td>1421389</td>\n",
       "      <td>4</td>\n",
       "      <td>Then, one month after discharge, she develope...</td>\n",
       "    </tr>\n",
       "  </tbody>\n",
       "</table>\n",
       "</div>"
      ],
      "text/plain": [
       "    doc_id  result_id                                               text\n",
       "0  1421389          0  A 49-year-old Caucasian woman with a history o...\n",
       "1  1421389          1   On admission, the patient's temperature was 3...\n",
       "2  1421389          2   Treatment with intravenous dexamethasone, cef...\n",
       "3  1421389          3   A diagnosis of CLL was confirmed by the expre...\n",
       "4  1421389          4   Then, one month after discharge, she develope..."
      ]
     },
     "execution_count": 23,
     "metadata": {},
     "output_type": "execute_result"
    }
   ],
   "source": [
    "results = pd.read_csv(\"results.csv\")\n",
    "results2 = pd.read_csv(\"results_auditory.csv\").drop(columns=\"Unnamed: 0\")\n",
    "results2.columns = results.columns\n",
    "results3 = pd.read_csv(\"results_bluetongue.csv\")\n",
    "results3.columns = results.columns\n",
    "results4 = pd.read_csv(\"results_melioidosis.csv\")\n",
    "results4.columns = results.columns\n",
    "results5 = pd.read_csv(\"results_reinforcement_learning.csv\").drop(columns=\"Unnamed: 0\")\n",
    "results5.columns = results.columns\n",
    "results6 = pd.read_csv(\"articles_res_malaria.csv\", sep=\"|\").drop(0)\n",
    "results6.columns = results.columns"
   ]
  },
  {
   "cell_type": "code",
   "execution_count": 37,
   "metadata": {},
   "outputs": [],
   "source": [
    "discussions = [pd.read_csv(\"discussions.csv\")]\n",
    "discussions.append(pd.read_csv(\"discussions_auditory.csv\").drop(columns=\"Unnamed: 0\"))\n",
    "discussions[-1].columns = discussions[0].columns\n",
    "discussions.append(pd.read_csv(\"discussions_bluetongue.csv\"))\n",
    "discussions[-1].columns = discussions[0].columns\n",
    "discussions.append(pd.read_csv(\"discussions_melioidosis.csv\"))\n",
    "discussions[-1].columns = discussions[0].columns\n",
    "discussions.append(pd.read_csv(\"discussions_reinforcement_learning.csv\").drop(columns=\"Unnamed: 0\"))\n",
    "discussions[-1].columns = discussions[0].columns\n",
    "discussions.append(pd.read_csv(\"articles_disc_malaria.csv\", sep=\"|\").drop(0))\n",
    "discussions[-1].columns = discussions[0].columns"
   ]
  },
  {
   "cell_type": "code",
   "execution_count": 39,
   "metadata": {},
   "outputs": [],
   "source": [
    "results = pd.concat([results, results2, results3, results4, results5, results6], ignore_index=True)"
   ]
  },
  {
   "cell_type": "code",
   "execution_count": 40,
   "metadata": {},
   "outputs": [],
   "source": [
    "discussions = pd.concat(discussions, ignore_index=True)"
   ]
  },
  {
   "cell_type": "code",
   "execution_count": 41,
   "metadata": {},
   "outputs": [],
   "source": [
    "pairs = pd.concat([pd.read_csv(\"pairs.csv\"), pd.read_csv(\"pairs_bluetongue.csv\"), pd.read_csv(\"pairs_melioidosis.csv\")])"
   ]
  },
  {
   "cell_type": "code",
   "execution_count": 49,
   "metadata": {},
   "outputs": [],
   "source": [
    "results[\"doc_id\"] = results[\"doc_id\"].astype('int32')\n",
    "discussions[\"doc_id\"] = discussions[\"doc_id\"].astype('int32')\n",
    "pairs[\"doc_id\"] = pairs[\"doc_id\"].astype('int32')"
   ]
  },
  {
   "cell_type": "code",
   "execution_count": 50,
   "metadata": {},
   "outputs": [],
   "source": [
    "results.to_csv(\"results.csv\", index=False, header=True)\n",
    "discussions.to_csv(\"discussions.csv\", index=False, header=True)\n",
    "pairs.to_csv(\"pairs.csv\", index=False, header=True)"
   ]
  },
  {
   "cell_type": "code",
   "execution_count": 27,
   "metadata": {},
   "outputs": [],
   "source": [
    "scores = [pd.read_csv(\"scores.csv\"), pd.read_csv(\"malaria_pairs_scores.csv\"), pd.read_csv(\"scores_bluetongue.csv\"), pd.read_csv(\"scores_reinforcement_learning_and_auditory.csv\")]\n",
    "scores[-3].columns = scores[0].columns\n",
    "scores[-2].columns = scores[0].columns\n",
    "scores[-1].columns = scores[0].columns\n",
    "scores = pd.concat(scores, ignore_index=True).drop_duplicates()"
   ]
  },
  {
   "cell_type": "code",
   "execution_count": null,
   "metadata": {},
   "outputs": [],
   "source": [
    "scores[\"doc_id_result\"] = scores[\"doc_id_result\"].astype(np.int32)\n",
    "scores[\"result_id\"] = scores[\"result_id\"].astype(np.int32)\n",
    "scores[\"doc_id_discussion\"] = scores[\"doc_id_discussion\"].astype(np.int32)\n",
    "scores[\"discussion_id\"] = scores[\"discussion_id\"].astype(np.int32)\n",
    "scores[\"score\"] = scores[\"score\"].astype(np.int32)"
   ]
  },
  {
   "cell_type": "code",
   "execution_count": 21,
   "metadata": {},
   "outputs": [],
   "source": [
    "scores.to_csv(\"scores.csv\", index=False, header=True)"
   ]
  },
  {
   "cell_type": "code",
   "execution_count": 65,
   "metadata": {},
   "outputs": [
    {
     "data": {
      "text/plain": [
       "(80,)"
      ]
     },
     "execution_count": 65,
     "metadata": {},
     "output_type": "execute_result"
    }
   ],
   "source": [
    "results[\"doc_id\"].unique().shape"
   ]
  },
  {
   "cell_type": "code",
   "execution_count": 66,
   "metadata": {},
   "outputs": [
    {
     "data": {
      "text/plain": [
       "(80,)"
      ]
     },
     "execution_count": 66,
     "metadata": {},
     "output_type": "execute_result"
    }
   ],
   "source": [
    "discussions[\"doc_id\"].unique().shape"
   ]
  },
  {
   "cell_type": "code",
   "execution_count": 64,
   "metadata": {},
   "outputs": [
    {
     "data": {
      "text/plain": [
       "(40,)"
      ]
     },
     "execution_count": 64,
     "metadata": {},
     "output_type": "execute_result"
    }
   ],
   "source": [
    "pairs[\"doc_id\"].unique().shape"
   ]
  },
  {
   "cell_type": "code",
   "execution_count": 24,
   "metadata": {},
   "outputs": [
    {
     "data": {
      "text/plain": [
       "(25,)"
      ]
     },
     "execution_count": 24,
     "metadata": {},
     "output_type": "execute_result"
    }
   ],
   "source": [
    "scores[\"doc_id_result\"].unique().shape"
   ]
  },
  {
   "cell_type": "code",
   "execution_count": 28,
   "metadata": {
    "scrolled": true
   },
   "outputs": [
    {
     "data": {
      "text/html": [
       "<div>\n",
       "<style scoped>\n",
       "    .dataframe tbody tr th:only-of-type {\n",
       "        vertical-align: middle;\n",
       "    }\n",
       "\n",
       "    .dataframe tbody tr th {\n",
       "        vertical-align: top;\n",
       "    }\n",
       "\n",
       "    .dataframe thead th {\n",
       "        text-align: right;\n",
       "    }\n",
       "</style>\n",
       "<table border=\"1\" class=\"dataframe\">\n",
       "  <thead>\n",
       "    <tr style=\"text-align: right;\">\n",
       "      <th></th>\n",
       "      <th>doc_id_result</th>\n",
       "      <th>result_id</th>\n",
       "      <th>doc_id_discussion</th>\n",
       "      <th>discussion_id</th>\n",
       "      <th>score</th>\n",
       "    </tr>\n",
       "  </thead>\n",
       "  <tbody>\n",
       "    <tr>\n",
       "      <th>count</th>\n",
       "      <td>2.546000e+03</td>\n",
       "      <td>2546.000000</td>\n",
       "      <td>2.546000e+03</td>\n",
       "      <td>2546.000000</td>\n",
       "      <td>2546.000000</td>\n",
       "    </tr>\n",
       "    <tr>\n",
       "      <th>mean</th>\n",
       "      <td>1.564838e+06</td>\n",
       "      <td>1.543598</td>\n",
       "      <td>1.496934e+06</td>\n",
       "      <td>2.572663</td>\n",
       "      <td>0.417125</td>\n",
       "    </tr>\n",
       "    <tr>\n",
       "      <th>std</th>\n",
       "      <td>7.438831e+05</td>\n",
       "      <td>1.478020</td>\n",
       "      <td>7.461311e+05</td>\n",
       "      <td>2.595679</td>\n",
       "      <td>0.927428</td>\n",
       "    </tr>\n",
       "    <tr>\n",
       "      <th>min</th>\n",
       "      <td>1.933340e+05</td>\n",
       "      <td>0.000000</td>\n",
       "      <td>1.933340e+05</td>\n",
       "      <td>0.000000</td>\n",
       "      <td>0.000000</td>\n",
       "    </tr>\n",
       "    <tr>\n",
       "      <th>25%</th>\n",
       "      <td>6.530440e+05</td>\n",
       "      <td>0.000000</td>\n",
       "      <td>6.530440e+05</td>\n",
       "      <td>1.000000</td>\n",
       "      <td>0.000000</td>\n",
       "    </tr>\n",
       "    <tr>\n",
       "      <th>50%</th>\n",
       "      <td>1.816166e+06</td>\n",
       "      <td>1.000000</td>\n",
       "      <td>1.816166e+06</td>\n",
       "      <td>2.000000</td>\n",
       "      <td>0.000000</td>\n",
       "    </tr>\n",
       "    <tr>\n",
       "      <th>75%</th>\n",
       "      <td>1.962556e+06</td>\n",
       "      <td>2.000000</td>\n",
       "      <td>1.962556e+06</td>\n",
       "      <td>3.000000</td>\n",
       "      <td>0.000000</td>\n",
       "    </tr>\n",
       "    <tr>\n",
       "      <th>max</th>\n",
       "      <td>2.562735e+06</td>\n",
       "      <td>6.000000</td>\n",
       "      <td>2.562735e+06</td>\n",
       "      <td>12.000000</td>\n",
       "      <td>4.000000</td>\n",
       "    </tr>\n",
       "  </tbody>\n",
       "</table>\n",
       "</div>"
      ],
      "text/plain": [
       "       doc_id_result    result_id  doc_id_discussion  discussion_id  \\\n",
       "count   2.546000e+03  2546.000000       2.546000e+03    2546.000000   \n",
       "mean    1.564838e+06     1.543598       1.496934e+06       2.572663   \n",
       "std     7.438831e+05     1.478020       7.461311e+05       2.595679   \n",
       "min     1.933340e+05     0.000000       1.933340e+05       0.000000   \n",
       "25%     6.530440e+05     0.000000       6.530440e+05       1.000000   \n",
       "50%     1.816166e+06     1.000000       1.816166e+06       2.000000   \n",
       "75%     1.962556e+06     2.000000       1.962556e+06       3.000000   \n",
       "max     2.562735e+06     6.000000       2.562735e+06      12.000000   \n",
       "\n",
       "             score  \n",
       "count  2546.000000  \n",
       "mean      0.417125  \n",
       "std       0.927428  \n",
       "min       0.000000  \n",
       "25%       0.000000  \n",
       "50%       0.000000  \n",
       "75%       0.000000  \n",
       "max       4.000000  "
      ]
     },
     "execution_count": 28,
     "metadata": {},
     "output_type": "execute_result"
    }
   ],
   "source": [
    "scores.describe()"
   ]
  },
  {
   "cell_type": "code",
   "execution_count": 19,
   "metadata": {},
   "outputs": [],
   "source": []
  }
 ],
 "metadata": {
  "colab": {
   "collapsed_sections": [],
   "machine_shape": "hm",
   "name": "Exemple_code_with_new_codebase.ipynb",
   "provenance": []
  },
  "kernelspec": {
   "display_name": "Python 3",
   "language": "python",
   "name": "python3"
  },
  "language_info": {
   "codemirror_mode": {
    "name": "ipython",
    "version": 3
   },
   "file_extension": ".py",
   "mimetype": "text/x-python",
   "name": "python",
   "nbconvert_exporter": "python",
   "pygments_lexer": "ipython3",
   "version": "3.5.3"
  },
  "toc": {
   "base_numbering": 1,
   "nav_menu": {},
   "number_sections": true,
   "sideBar": true,
   "skip_h1_title": false,
   "title_cell": "Table of Contents",
   "title_sidebar": "Contents",
   "toc_cell": false,
   "toc_position": {},
   "toc_section_display": true,
   "toc_window_display": false
  }
 },
 "nbformat": 4,
 "nbformat_minor": 1
}
