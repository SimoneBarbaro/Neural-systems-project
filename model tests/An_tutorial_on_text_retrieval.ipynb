{
 "cells": [
  {
   "cell_type": "markdown",
   "metadata": {
    "colab_type": "text",
    "id": "Eh1dq7VS-ZsS"
   },
   "source": [
    "### Run this tutorial notebook on Google Colab\n",
    "**LINK:** https://colab.research.google.com/drive/1YMw79uBxBQO2we52QeRTxAwTP1G5a3rM"
   ]
  },
  {
   "cell_type": "code",
   "execution_count": 0,
   "metadata": {
    "colab": {},
    "colab_type": "code",
    "id": "YPxWttn--3nj"
   },
   "outputs": [],
   "source": []
  },
  {
   "cell_type": "markdown",
   "metadata": {
    "colab_type": "text",
    "id": "p6r6zPektH4a"
   },
   "source": [
    "### Download example dataset"
   ]
  },
  {
   "cell_type": "code",
   "execution_count": 1,
   "metadata": {
    "colab": {
     "base_uri": "https://localhost:8080/",
     "height": 136
    },
    "colab_type": "code",
    "id": "GrfAvUoktOjp",
    "outputId": "8cc9f509-60a1-4154-e9aa-0b99019e3c45"
   },
   "outputs": [
    {
     "name": "stderr",
     "output_type": "stream",
     "text": [
      "  % Total    % Received % Xferd  Average Speed   Time    Time     Time  Current\n",
      "                                 Dload  Upload   Total   Spent    Left  Speed\n",
      "\n",
      "  0     0    0     0    0     0      0      0 --:--:-- --:--:-- --:--:--     0\n",
      "  0     0    0     0    0     0      0      0 --:--:-- --:--:-- --:--:--     0\n",
      "100  3254    0  3254    0     0   3254      0 --:--:-- --:--:-- --:--:--  5478\n",
      "  % Total    % Received % Xferd  Average Speed   Time    Time     Time  Current\n",
      "                                 Dload  Upload   Total   Spent    Left  Speed\n",
      "\n",
      "  0     0    0     0    0     0      0      0 --:--:-- --:--:-- --:--:--     0\"sed\" non Š riconosciuto come comando interno o esterno,\n",
      " un programma eseguibile o un file batch.\n"
     ]
    }
   ],
   "source": [
    "!curl -c /tmp/cookies \"https://drive.google.com/uc?export=download&id=1AvU1UDSeg4uWfPA8JynjrrNnvg8oa0AZ\" > /tmp/intermezzo.html\n",
    "!curl -L -b /tmp/cookies \"https://drive.google.com$(cat /tmp/intermezzo.html | grep -Po 'uc-download-link\" [^>]* href=\"\\K[^\"]*' | sed 's/\\&amp;/\\&/g')\" > dataset.txt"
   ]
  },
  {
   "cell_type": "markdown",
   "metadata": {
    "colab_type": "text",
    "id": "YfhyqgOBLNeL"
   },
   "source": [
    "### read the text file"
   ]
  },
  {
   "cell_type": "markdown",
   "metadata": {
    "colab_type": "text",
    "id": "av7jk7LwYHEf"
   },
   "source": [
    "Each line in the text file contains the information of a single paper. <br>\n",
    "The format of each line is:<br>\n",
    "doc_id<-SEPARATOR->doi<-SEPARATOR->year<-SEPARATOR->title<-SEPARATOR->journal_name<-SEPARATOR->authors<-SEPARATOR->abstract<-SEPARATOR->fullbody\n",
    "\n",
    "The flag word \"<-SEPARATOR->\" is used to separate different fields of the document. We can extract needed fields using following code."
   ]
  },
  {
   "cell_type": "code",
   "execution_count": 0,
   "metadata": {
    "colab": {},
    "colab_type": "code",
    "id": "0Vu-Ab9W68JQ"
   },
   "outputs": [],
   "source": [
    "import pandas as pd\n",
    "import numpy as np"
   ]
  },
  {
   "cell_type": "code",
   "execution_count": 0,
   "metadata": {
    "colab": {
     "base_uri": "https://localhost:8080/",
     "height": 71
    },
    "colab_type": "code",
    "id": "NsFYUhvgR5pl",
    "outputId": "143fb615-8069-4e4d-c8e4-364369b54e3c"
   },
   "outputs": [
    {
     "name": "stderr",
     "output_type": "stream",
     "text": [
      "/usr/local/lib/python3.6/dist-packages/ipykernel_launcher.py:1: ParserWarning: Falling back to the 'python' engine because the 'c' engine does not support regex separators (separators > 1 char and different from '\\s+' are interpreted as regex); you can avoid this warning by specifying engine='python'.\n",
      "  \"\"\"Entry point for launching an IPython kernel.\n"
     ]
    }
   ],
   "source": [
    "df = pd.read_csv( \"dataset.txt\" , sep=r\"<-SEPARATOR->\", header= 0, index_col= False, dtype=\"str\",  keep_default_na = False )"
   ]
  },
  {
   "cell_type": "markdown",
   "metadata": {
    "colab_type": "text",
    "id": "7S4jvWQTXOsU"
   },
   "source": [
    "Let's have a look a a few examples in df"
   ]
  },
  {
   "cell_type": "code",
   "execution_count": 0,
   "metadata": {
    "colab": {
     "base_uri": "https://localhost:8080/",
     "height": 374
    },
    "colab_type": "code",
    "id": "zeoIQ-WTKp46",
    "outputId": "f5ee8a69-c84c-44fa-b363-49dea87986e1"
   },
   "outputs": [
    {
     "data": {
      "text/html": [
       "<div>\n",
       "<style scoped>\n",
       "    .dataframe tbody tr th:only-of-type {\n",
       "        vertical-align: middle;\n",
       "    }\n",
       "\n",
       "    .dataframe tbody tr th {\n",
       "        vertical-align: top;\n",
       "    }\n",
       "\n",
       "    .dataframe thead th {\n",
       "        text-align: right;\n",
       "    }\n",
       "</style>\n",
       "<table border=\"1\" class=\"dataframe\">\n",
       "  <thead>\n",
       "    <tr style=\"text-align: right;\">\n",
       "      <th></th>\n",
       "      <th>doc_id</th>\n",
       "      <th>doi</th>\n",
       "      <th>year</th>\n",
       "      <th>title</th>\n",
       "      <th>journal_name</th>\n",
       "      <th>authors</th>\n",
       "      <th>abstract</th>\n",
       "      <th>fullbody</th>\n",
       "    </tr>\n",
       "  </thead>\n",
       "  <tbody>\n",
       "    <tr>\n",
       "      <th>0</th>\n",
       "      <td>200</td>\n",
       "      <td>10.5812/jjm.33498</td>\n",
       "      <td>2016</td>\n",
       "      <td>Study of Genetic Variation of  Leishmania majo...</td>\n",
       "      <td>Jundishapur Journal of Microbiology</td>\n",
       "      <td>Mansour Dabirzadeh\\tMohammad Hashemi\\tYahya Ma...</td>\n",
       "      <td>Background Zoonotic cutaneous leishmaniasis (Z...</td>\n",
       "      <td>1. Background Zoonotic cutaneous leishmaniasis...</td>\n",
       "    </tr>\n",
       "    <tr>\n",
       "      <th>1</th>\n",
       "      <td>201</td>\n",
       "      <td>10.5812/jjm.32388</td>\n",
       "      <td>2016</td>\n",
       "      <td>Characterization of Oxacillinase and Metallo-β...</td>\n",
       "      <td>Jundishapur Journal of Microbiology</td>\n",
       "      <td>Saeed Shoja\\tMojtaba Moosavian\\tSoodabeh Rosta...</td>\n",
       "      <td>Background: Carbapenem resistant Acinetobacter...</td>\n",
       "      <td>1. Background In recent years, Acinetobacter b...</td>\n",
       "    </tr>\n",
       "    <tr>\n",
       "      <th>2</th>\n",
       "      <td>202</td>\n",
       "      <td>10.5812/jjm.28291</td>\n",
       "      <td>2016</td>\n",
       "      <td>Staphylococcus aureus  Isolates Carrying Panto...</td>\n",
       "      <td>Jundishapur Journal of Microbiology</td>\n",
       "      <td>Laleh Shariati\\tMajid Validi\\tAli Mohammad Has...</td>\n",
       "      <td>Background: A diversity of virulence factors w...</td>\n",
       "      <td>1. Background Staphylococcus aureus is a commo...</td>\n",
       "    </tr>\n",
       "    <tr>\n",
       "      <th>3</th>\n",
       "      <td>203</td>\n",
       "      <td>10.5812/jjm.10168</td>\n",
       "      <td>2014</td>\n",
       "      <td>In Vitro  Study of Potentially Probiotic lacti...</td>\n",
       "      <td>Jundishapur Journal of Microbiology</td>\n",
       "      <td>Hooshang Niazi Amraii\\tHamid Abtahi\\tParvaneh ...</td>\n",
       "      <td>Background: Probiotic microorganisms are selec...</td>\n",
       "      <td>1. Background Great attention is currently dra...</td>\n",
       "    </tr>\n",
       "    <tr>\n",
       "      <th>4</th>\n",
       "      <td>204</td>\n",
       "      <td>10.5812/jjm.17824</td>\n",
       "      <td>2014</td>\n",
       "      <td>Phenotypic Characteristics and Probiotic Poten...</td>\n",
       "      <td>Jundishapur Journal of Microbiology</td>\n",
       "      <td>Nasrin Noohi\\tNasrin Noohi\\tGholamhosein Ebrah...</td>\n",
       "      <td>Background: Lactic acid bacteria, especially L...</td>\n",
       "      <td>1. Background The normal flora bacteria in int...</td>\n",
       "    </tr>\n",
       "  </tbody>\n",
       "</table>\n",
       "</div>"
      ],
      "text/plain": [
       "  doc_id  ...                                           fullbody\n",
       "0    200  ...  1. Background Zoonotic cutaneous leishmaniasis...\n",
       "1    201  ...  1. Background In recent years, Acinetobacter b...\n",
       "2    202  ...  1. Background Staphylococcus aureus is a commo...\n",
       "3    203  ...  1. Background Great attention is currently dra...\n",
       "4    204  ...  1. Background The normal flora bacteria in int...\n",
       "\n",
       "[5 rows x 8 columns]"
      ]
     },
     "execution_count": 4,
     "metadata": {
      "tags": []
     },
     "output_type": "execute_result"
    }
   ],
   "source": [
    "df.head()"
   ]
  },
  {
   "cell_type": "markdown",
   "metadata": {
    "colab_type": "text",
    "id": "XPip_0OcYS5P"
   },
   "source": [
    "We can get a subset of the fields from the dataframe above. For example, get the \"title\" and \"abstract\" fields and only get the top 100 records."
   ]
  },
  {
   "cell_type": "code",
   "execution_count": 0,
   "metadata": {
    "colab": {},
    "colab_type": "code",
    "id": "hGpgtlX7K6Uy"
   },
   "outputs": [],
   "source": [
    "sub_df= df[[ \"title\" , \"abstract\" ]][:100]"
   ]
  },
  {
   "cell_type": "code",
   "execution_count": 0,
   "metadata": {
    "colab": {
     "base_uri": "https://localhost:8080/",
     "height": 419
    },
    "colab_type": "code",
    "id": "gHiRs-_oZGq8",
    "outputId": "c6283712-89bc-4c5a-990e-09f18b929d0c"
   },
   "outputs": [
    {
     "data": {
      "text/html": [
       "<div>\n",
       "<style scoped>\n",
       "    .dataframe tbody tr th:only-of-type {\n",
       "        vertical-align: middle;\n",
       "    }\n",
       "\n",
       "    .dataframe tbody tr th {\n",
       "        vertical-align: top;\n",
       "    }\n",
       "\n",
       "    .dataframe thead th {\n",
       "        text-align: right;\n",
       "    }\n",
       "</style>\n",
       "<table border=\"1\" class=\"dataframe\">\n",
       "  <thead>\n",
       "    <tr style=\"text-align: right;\">\n",
       "      <th></th>\n",
       "      <th>title</th>\n",
       "      <th>abstract</th>\n",
       "    </tr>\n",
       "  </thead>\n",
       "  <tbody>\n",
       "    <tr>\n",
       "      <th>0</th>\n",
       "      <td>Study of Genetic Variation of  Leishmania majo...</td>\n",
       "      <td>Background Zoonotic cutaneous leishmaniasis (Z...</td>\n",
       "    </tr>\n",
       "    <tr>\n",
       "      <th>1</th>\n",
       "      <td>Characterization of Oxacillinase and Metallo-β...</td>\n",
       "      <td>Background: Carbapenem resistant Acinetobacter...</td>\n",
       "    </tr>\n",
       "    <tr>\n",
       "      <th>2</th>\n",
       "      <td>Staphylococcus aureus  Isolates Carrying Panto...</td>\n",
       "      <td>Background: A diversity of virulence factors w...</td>\n",
       "    </tr>\n",
       "    <tr>\n",
       "      <th>3</th>\n",
       "      <td>In Vitro  Study of Potentially Probiotic lacti...</td>\n",
       "      <td>Background: Probiotic microorganisms are selec...</td>\n",
       "    </tr>\n",
       "    <tr>\n",
       "      <th>4</th>\n",
       "      <td>Phenotypic Characteristics and Probiotic Poten...</td>\n",
       "      <td>Background: Lactic acid bacteria, especially L...</td>\n",
       "    </tr>\n",
       "    <tr>\n",
       "      <th>...</th>\n",
       "      <td>...</td>\n",
       "      <td>...</td>\n",
       "    </tr>\n",
       "    <tr>\n",
       "      <th>95</th>\n",
       "      <td>Rapid Detection of Rifampicin- and Isoniazid-R...</td>\n",
       "      <td>Background Accurate and rapid detection of dru...</td>\n",
       "    </tr>\n",
       "    <tr>\n",
       "      <th>96</th>\n",
       "      <td>Detection of Parvovirus B19 Infection in Thala...</td>\n",
       "      <td>Background: Parvovirus B19, a member of the Er...</td>\n",
       "    </tr>\n",
       "    <tr>\n",
       "      <th>97</th>\n",
       "      <td>Prevalence of  Helicobacter pylori  in Patient...</td>\n",
       "      <td>Background: The prevalence rate of gastric inf...</td>\n",
       "    </tr>\n",
       "    <tr>\n",
       "      <th>98</th>\n",
       "      <td>Prevalence of Enterotoxigenic  Staphylococcus ...</td>\n",
       "      <td>Background: The enterotoxigenic Staphylococcus...</td>\n",
       "    </tr>\n",
       "    <tr>\n",
       "      <th>99</th>\n",
       "      <td>Vaginal Candidiasis Complications on Pregnant ...</td>\n",
       "      <td></td>\n",
       "    </tr>\n",
       "  </tbody>\n",
       "</table>\n",
       "<p>100 rows × 2 columns</p>\n",
       "</div>"
      ],
      "text/plain": [
       "                                                title                                           abstract\n",
       "0   Study of Genetic Variation of  Leishmania majo...  Background Zoonotic cutaneous leishmaniasis (Z...\n",
       "1   Characterization of Oxacillinase and Metallo-β...  Background: Carbapenem resistant Acinetobacter...\n",
       "2   Staphylococcus aureus  Isolates Carrying Panto...  Background: A diversity of virulence factors w...\n",
       "3   In Vitro  Study of Potentially Probiotic lacti...  Background: Probiotic microorganisms are selec...\n",
       "4   Phenotypic Characteristics and Probiotic Poten...  Background: Lactic acid bacteria, especially L...\n",
       "..                                                ...                                                ...\n",
       "95  Rapid Detection of Rifampicin- and Isoniazid-R...  Background Accurate and rapid detection of dru...\n",
       "96  Detection of Parvovirus B19 Infection in Thala...  Background: Parvovirus B19, a member of the Er...\n",
       "97  Prevalence of  Helicobacter pylori  in Patient...  Background: The prevalence rate of gastric inf...\n",
       "98  Prevalence of Enterotoxigenic  Staphylococcus ...  Background: The enterotoxigenic Staphylococcus...\n",
       "99  Vaginal Candidiasis Complications on Pregnant ...                                                   \n",
       "\n",
       "[100 rows x 2 columns]"
      ]
     },
     "execution_count": 6,
     "metadata": {
      "tags": []
     },
     "output_type": "execute_result"
    }
   ],
   "source": [
    "sub_df"
   ]
  },
  {
   "cell_type": "markdown",
   "metadata": {
    "colab_type": "text",
    "id": "MzEd7Lkt1WO-"
   },
   "source": [
    "we can also create a dataset by create a list of [ title, abstract ] pairs"
   ]
  },
  {
   "cell_type": "code",
   "execution_count": 0,
   "metadata": {
    "colab": {},
    "colab_type": "code",
    "id": "mrEkRdghaIAu"
   },
   "outputs": [],
   "source": [
    "ds = [  [ title, abstract ]   for title, abstract  in zip( df.title , df.abstract )]"
   ]
  },
  {
   "cell_type": "code",
   "execution_count": 0,
   "metadata": {
    "colab": {
     "base_uri": "https://localhost:8080/",
     "height": 105
    },
    "colab_type": "code",
    "id": "CCqP-l9iarpI",
    "outputId": "6c2689a5-d6b1-4a7d-eb5a-1891e320548b"
   },
   "outputs": [
    {
     "name": "stdout",
     "output_type": "stream",
     "text": [
      "total number of title-abstract pairs: 10000\n",
      "First example in the dataset:\n",
      "Title:\tStudy of Genetic Variation of  Leishmania major  Based on Internal Transcribed Spacer 1 (ITS1) in Chabahar, Iran\n",
      "Abstract:\tBackground Zoonotic cutaneous leishmaniasis (ZCL) is polymorphic disease that may show various clinical manifestations. Objectives This study investigates the determination of genetic variation within the species of Leishmania major isolates from new cases in Chabahar, a port city in Southeast Iran (situated at the Iran-Pakistan border). Migration in this region indicates that leishmaniasis is spreading gradually, and a new micro-habitat focus appears each year. Materials and Methods A variety of nucleic acid detection methods that target both DNA and RNA have been developed. The restriction fragment length polymorphism analysis of amplified internal transcribed spacer 1 with polymerase chain reaction (ITS1-RFLP PCR) assay is a multipurpose tool for the diagnosis of Leishmania from clinical samples and for enabling the determination of the infecting Leishmania species. The goal of this study was the identification of species based on ITS1-RFLP in the ribosomal operon of L. major from clinically different forms of ZCL amplified by PCR, followed by the digestion of the PCR product with restriction enzymes. The profiles were observed and visualized in agarose gel under UV light. We used direct smears to identify the parasites. While taking the smear, samples were collected for culture or direct PCR. We used the PCR-RFLP assay of the ITS1 genes for direct identification of Leishmania species in 24 out of 33 suspected patients. PCR-ITS1 amplification was done on the 24 samples confirmed by culture via growth and parasitological methods. Results Of the 24 isolates, 21 had 350 bp bands (87.5%) and three had 450 bp bands (12.5%). After using the restriction enzyme, banding patterns including fragments of 210 and 140 bp for L. major were detected in 19 cases. Conclusions The L. major species causing ZCL in Chabahar have limited genetic variation. There seems to be little manifestation of diversity between these lesions as a new focus of disease, and new micro-habitats for the disease are appearing in parts of this region.\n"
     ]
    }
   ],
   "source": [
    "print( \"total number of title-abstract pairs:\", len(ds) )\n",
    "print( \"First example in the dataset:\\nTitle:\\t%s\\nAbstract:\\t%s\"%( ds[0][0], ds[0][1] ) )"
   ]
  },
  {
   "cell_type": "markdown",
   "metadata": {
    "colab_type": "text",
    "id": "cKpVCJQNZ_k5"
   },
   "source": [
    "### Tokenization\n",
    "As shown above, the text contains many non-alphabetic characters, like \"(\", \")\" , punktuations. For the text retrieval task, those characters are usually removed since they are not informative. Capitalized characters are usually lowered. Therefore, a tokenization procedure is needed."
   ]
  },
  {
   "cell_type": "code",
   "execution_count": 0,
   "metadata": {
    "colab": {},
    "colab_type": "code",
    "id": "9tCY3ZJAH0zT"
   },
   "outputs": [],
   "source": [
    "import nltk\n",
    "from nltk import RegexpTokenizer\n",
    "# This tokenizer is simply to use a regular expression \"\\w+\" to remove all characters which are not from the set [0-9A-Za-z]\n",
    "# This is not the best one but is very fast. Explore the nltk package for more powerful tokenizer!\n",
    "tokenizer = RegexpTokenizer( \"\\w+\" )\n",
    "\n",
    "# Use this tokenizer to tokenize the dataset we just created.\n",
    "for record in ds:\n",
    "    record[0] = \" \".join(tokenizer.tokenize( record[0].lower()  ))\n",
    "    record[1] = \" \".join(tokenizer.tokenize( record[1].lower()  ))"
   ]
  },
  {
   "cell_type": "markdown",
   "metadata": {
    "colab_type": "text",
    "id": "jq1QXjtW9rqV"
   },
   "source": [
    "Let's have a look at one example in the dataset."
   ]
  },
  {
   "cell_type": "code",
   "execution_count": 0,
   "metadata": {
    "colab": {
     "base_uri": "https://localhost:8080/",
     "height": 71
    },
    "colab_type": "code",
    "id": "Mi1y02oUelkG",
    "outputId": "d40e3afe-e6dc-4908-d008-644e8f67f553"
   },
   "outputs": [
    {
     "data": {
      "text/plain": [
       "['study of genetic variation of leishmania major based on internal transcribed spacer 1 its1 in chabahar iran',\n",
       " 'background zoonotic cutaneous leishmaniasis zcl is polymorphic disease that may show various clinical manifestations objectives this study investigates the determination of genetic variation within the species of leishmania major isolates from new cases in chabahar a port city in southeast iran situated at the iran pakistan border migration in this region indicates that leishmaniasis is spreading gradually and a new micro habitat focus appears each year materials and methods a variety of nucleic acid detection methods that target both dna and rna have been developed the restriction fragment length polymorphism analysis of amplified internal transcribed spacer 1 with polymerase chain reaction its1 rflp pcr assay is a multipurpose tool for the diagnosis of leishmania from clinical samples and for enabling the determination of the infecting leishmania species the goal of this study was the identification of species based on its1 rflp in the ribosomal operon of l major from clinically different forms of zcl amplified by pcr followed by the digestion of the pcr product with restriction enzymes the profiles were observed and visualized in agarose gel under uv light we used direct smears to identify the parasites while taking the smear samples were collected for culture or direct pcr we used the pcr rflp assay of the its1 genes for direct identification of leishmania species in 24 out of 33 suspected patients pcr its1 amplification was done on the 24 samples confirmed by culture via growth and parasitological methods results of the 24 isolates 21 had 350 bp bands 87 5 and three had 450 bp bands 12 5 after using the restriction enzyme banding patterns including fragments of 210 and 140 bp for l major were detected in 19 cases conclusions the l major species causing zcl in chabahar have limited genetic variation there seems to be little manifestation of diversity between these lesions as a new focus of disease and new micro habitats for the disease are appearing in parts of this region']"
      ]
     },
     "execution_count": 10,
     "metadata": {
      "tags": []
     },
     "output_type": "execute_result"
    }
   ],
   "source": [
    "ds[0]"
   ]
  },
  {
   "cell_type": "markdown",
   "metadata": {
    "colab_type": "text",
    "id": "ybwVCLfrfTYw"
   },
   "source": [
    "### Text Retrieval"
   ]
  },
  {
   "cell_type": "markdown",
   "metadata": {
    "colab_type": "text",
    "id": "XjEYfCRYpqPx"
   },
   "source": [
    "Here we use one example for the following task:\n",
    "use title as query to search for abstracts from the corpus"
   ]
  },
  {
   "cell_type": "markdown",
   "metadata": {
    "colab_type": "text",
    "id": "zA3K9doznKXd"
   },
   "source": [
    "#### Keyword-based search: BM25 (Okapi BM25)"
   ]
  },
  {
   "cell_type": "markdown",
   "metadata": {
    "colab_type": "text",
    "id": "pdiWlMHXpfVA"
   },
   "source": [
    "Install the rank_bm25 package"
   ]
  },
  {
   "cell_type": "code",
   "execution_count": 0,
   "metadata": {
    "colab": {
     "base_uri": "https://localhost:8080/",
     "height": 207
    },
    "colab_type": "code",
    "id": "beNV5JZD67Pw",
    "outputId": "af3fe3e0-4d92-45d9-8a83-f4694aebf805"
   },
   "outputs": [
    {
     "name": "stdout",
     "output_type": "stream",
     "text": [
      "Collecting rank_bm25\n",
      "  Downloading https://files.pythonhosted.org/packages/d2/e4/38d03d6d5e2deae8d2838b81d6ba2742475ced42045f5c46aeb00c5fb79c/rank_bm25-0.2.tar.gz\n",
      "Requirement already satisfied: numpy in /usr/local/lib/python3.6/dist-packages (from rank_bm25) (1.17.5)\n",
      "Building wheels for collected packages: rank-bm25\n",
      "  Building wheel for rank-bm25 (setup.py) ... \u001b[?25l\u001b[?25hdone\n",
      "  Created wheel for rank-bm25: filename=rank_bm25-0.2-cp36-none-any.whl size=4162 sha256=7ac71b43bc9a344081bbf6f55ad0c4c2940261109fada94dc46c11c8ce65e270\n",
      "  Stored in directory: /root/.cache/pip/wheels/6f/0c/1f/78945dd6a5478bbcdb50d73ac96ae5af2ffcdfcd374fd9b1bf\n",
      "Successfully built rank-bm25\n",
      "Installing collected packages: rank-bm25\n",
      "Successfully installed rank-bm25-0.2\n"
     ]
    }
   ],
   "source": [
    "!pip install rank_bm25"
   ]
  },
  {
   "cell_type": "code",
   "execution_count": 0,
   "metadata": {
    "colab": {},
    "colab_type": "code",
    "id": "at6FAo3KeToc"
   },
   "outputs": [],
   "source": [
    "from rank_bm25 import BM25Okapi\n",
    "# the queries is a list of titles\n",
    "# the corpus is a list of abstracts\n",
    "queries, corpus = zip( *ds )\n",
    "# build the index for the corpus\n",
    "tokenized_corpus = [ doc.split() for doc in corpus]\n",
    "bm25 = BM25Okapi( tokenized_corpus )"
   ]
  },
  {
   "cell_type": "code",
   "execution_count": 0,
   "metadata": {
    "colab": {},
    "colab_type": "code",
    "id": "87aicbJBrKnQ"
   },
   "outputs": [],
   "source": [
    "# Ranking of documents given a query\n",
    "query = queries[0]\n",
    "doc_scores = bm25.get_scores( query.split() )\n",
    "# The doc_scores contains the bm25 score of ech document in the corpus. The higher the document score is, the closer the document is to the query."
   ]
  },
  {
   "cell_type": "code",
   "execution_count": 0,
   "metadata": {
    "colab": {},
    "colab_type": "code",
    "id": "R17nhl24r7yr"
   },
   "outputs": [],
   "source": [
    "# get the index of top 20 closest documents to the query\n",
    "Knn_ids = np.argsort( -doc_scores )[:20]"
   ]
  },
  {
   "cell_type": "code",
   "execution_count": 0,
   "metadata": {
    "colab": {
     "base_uri": "https://localhost:8080/",
     "height": 68
    },
    "colab_type": "code",
    "id": "pF0zyN_er805",
    "outputId": "3c845c26-384e-4b61-be3b-6bc7d669fc63"
   },
   "outputs": [
    {
     "name": "stdout",
     "output_type": "stream",
     "text": [
      "Query ID:\t0\n",
      "20 closest documents ids: [   0  363 7804   19  331 7825  439  386  141 2090 3164  201 2399 4450\n",
      "  737   41 5338   23  303  432]\n"
     ]
    }
   ],
   "source": [
    "print(\"Query ID:\\t%d\"%( 0 ))\n",
    "print(\"20 closest documents ids:\", Knn_ids  )"
   ]
  },
  {
   "cell_type": "markdown",
   "metadata": {
    "colab_type": "text",
    "id": "n1tCsqVwthmd"
   },
   "source": [
    "Since the query id is 0 and the id of the document with highest bm25 score is also 0. This means that the bm25 search engine has successfully found the target abstract from the corpus. <br>"
   ]
  },
  {
   "cell_type": "markdown",
   "metadata": {
    "colab_type": "text",
    "id": "JjhddKqdKaI4"
   },
   "source": [
    "**Evaluation of performance** <br>\n",
    "1. M@L score. M@L score is defined by the frequency that the \"real\" abstract appears within the top L searched results. For example, if we query for 100 times, and the \"real\" abstract appear in top L results for 80 times, then the M@L score is 0.8.\n",
    "2. M distribution. Plot the distribution of the rank orders of the \"real\" abstracts over a certain amount of querying experiments.    "
   ]
  },
  {
   "cell_type": "code",
   "execution_count": 0,
   "metadata": {
    "colab": {
     "base_uri": "https://localhost:8080/",
     "height": 34
    },
    "colab_type": "code",
    "id": "X3zRC8IrtC-2",
    "outputId": "4da2df51-189d-4eaa-afc3-d31a39e0fc56"
   },
   "outputs": [
    {
     "name": "stderr",
     "output_type": "stream",
     "text": [
      "100%|██████████| 10000/10000 [11:02<00:00, 15.10it/s]\n"
     ]
    }
   ],
   "source": [
    "from tqdm import tqdm\n",
    "# We first perform 1000 queries and get a record for Knn_ids for each query.\n",
    "real_qeury_ids = []\n",
    "Knn_ids_record = []\n",
    "count = 0\n",
    "for query in tqdm(queries):    # tqdm is used to visualize the progress, not mandatory\n",
    "    real_qeury_ids.append(count)\n",
    "    doc_scores = bm25.get_scores( query.split() )\n",
    "    Knn_ids = np.argsort( -doc_scores )[:20]\n",
    "    Knn_ids_record.append( Knn_ids )\n",
    "    count +=1\n",
    "real_qeury_ids = np.array(real_qeury_ids)\n",
    "Knn_ids_record = np.asarray( Knn_ids_record )"
   ]
  },
  {
   "cell_type": "code",
   "execution_count": 0,
   "metadata": {
    "colab": {
     "base_uri": "https://localhost:8080/",
     "height": 34
    },
    "colab_type": "code",
    "id": "UtRDSIDNP4SL",
    "outputId": "3482abb5-37b2-477d-c7f0-bac1b3105d2e"
   },
   "outputs": [
    {
     "name": "stdout",
     "output_type": "stream",
     "text": [
      "M@1 score is: 0.8088\n"
     ]
    }
   ],
   "source": [
    "# M@1 score:\n",
    "M1_score =  np.mean( np.any( Knn_ids_record[:,:1] == real_qeury_ids[:, np.newaxis], axis=-1 ))\n",
    "print( \"M@1 score is:\", M1_score )"
   ]
  },
  {
   "cell_type": "code",
   "execution_count": 0,
   "metadata": {
    "colab": {
     "base_uri": "https://localhost:8080/",
     "height": 312
    },
    "colab_type": "code",
    "id": "gdo-cZLwQgnV",
    "outputId": "16b10aa6-8574-45a9-ea9d-d527eedec5e1"
   },
   "outputs": [
    {
     "name": "stdout",
     "output_type": "stream",
     "text": [
      "M@20 score: 0.8527\n"
     ]
    },
    {
     "data": {
      "image/png": "[encoded data removed]",
      "text/plain": [
       "<Figure size 432x288 with 1 Axes>"
      ]
     },
     "metadata": {
      "tags": []
     },
     "output_type": "display_data"
    }
   ],
   "source": [
    "# M@1 to M@20 score\n",
    "import matplotlib.pyplot as plt\n",
    "\n",
    "ML_score_list = []\n",
    "for L in range(1,21):\n",
    "    ML_score_list.append( np.mean( np.any( Knn_ids_record[:,:L] == real_qeury_ids[:, np.newaxis], axis=-1 )) )\n",
    "\n",
    "print( \"M@20 score:\", ML_score_list[-1] )\n",
    "plt.plot( np.arange(1,21), ML_score_list )\n",
    "plt.xlabel(\"L\")\n",
    "plt.ylabel(\"M@L score\")\n",
    "plt.title(\"M@L score curve\")\n",
    "plt.xticks( np.arange(1,21) )\n",
    "plt.show()"
   ]
  },
  {
   "cell_type": "code",
   "execution_count": 0,
   "metadata": {
    "colab": {
     "base_uri": "https://localhost:8080/",
     "height": 265
    },
    "colab_type": "code",
    "id": "1nK8ZyEIRQMQ",
    "outputId": "2b3ea553-7f6c-4799-9de9-d81764cf5e0e"
   },
   "outputs": [
    {
     "data": {
      "image/png": "[encoded data removed]",
      "text/plain": [
       "<Figure size 432x288 with 1 Axes>"
      ]
     },
     "metadata": {
      "tags": []
     },
     "output_type": "display_data"
    }
   ],
   "source": [
    "# M distribution\n",
    "rank_order_list =[]\n",
    "for idx in range(len(real_qeury_ids)):\n",
    "    if  real_qeury_ids[idx] in  Knn_ids_record[idx]:\n",
    "         rank_order_list.append( np.argwhere(  real_qeury_ids[idx] == Knn_ids_record[idx]  )[0,0] )\n",
    "plt.hist( rank_order_list, bins=20 )\n",
    "plt.show()"
   ]
  },
  {
   "cell_type": "code",
   "execution_count": 0,
   "metadata": {
    "colab": {},
    "colab_type": "code",
    "id": "XLWuss9-T6ei"
   },
   "outputs": [],
   "source": []
  },
  {
   "cell_type": "markdown",
   "metadata": {
    "colab_type": "text",
    "id": "qwM_CvGyUdSl"
   },
   "source": [
    "#### Embedding based search: Sent2vec"
   ]
  },
  {
   "cell_type": "markdown",
   "metadata": {
    "colab_type": "text",
    "id": "x1y9JkhvWmA3"
   },
   "source": [
    "Download the pre-trained sent2vec model, trained on Pubmed dataset, 400 dimensional unigram model."
   ]
  },
  {
   "cell_type": "code",
   "execution_count": 0,
   "metadata": {
    "colab": {
     "base_uri": "https://localhost:8080/",
     "height": 136
    },
    "colab_type": "code",
    "id": "Z6UQqH5qUgJ5",
    "outputId": "2d852b37-cc26-4049-b781-26ef336eb0b7"
   },
   "outputs": [
    {
     "name": "stdout",
     "output_type": "stream",
     "text": [
      "  % Total    % Received % Xferd  Average Speed   Time    Time     Time  Current\n",
      "                                 Dload  Upload   Total   Spent    Left  Speed\n",
      "100  3256    0  3256    0     0  33224      0 --:--:-- --:--:-- --:--:-- 32888\n",
      "  % Total    % Received % Xferd  Average Speed   Time    Time     Time  Current\n",
      "                                 Dload  Upload   Total   Spent    Left  Speed\n",
      "100   388    0   388    0     0   4731      0 --:--:-- --:--:-- --:--:--  4731\n",
      "100 8404M    0 8404M    0     0  62.1M      0 --:--:--  0:02:15 --:--:--  109M\n"
     ]
    }
   ],
   "source": [
    "## Downloading the sent2vec model\n",
    "!curl -c /tmp/cookies \"https://drive.google.com/uc?export=download&id=1PGrbSf7mksHbYAmTpOBEl6nQl7din5Vj\" > /tmp/intermezzo.html\n",
    "!curl -L -b /tmp/cookies \"https://drive.google.com$(cat /tmp/intermezzo.html | grep -Po 'uc-download-link\" [^>]* href=\"\\K[^\"]*' | sed 's/\\&amp;/\\&/g')\" > sent2vec_model.bin"
   ]
  },
  {
   "cell_type": "code",
   "execution_count": 0,
   "metadata": {
    "colab": {
     "base_uri": "https://localhost:8080/",
     "height": 479
    },
    "colab_type": "code",
    "id": "gqgHufiB4py8",
    "outputId": "32c69581-cb9c-4315-d271-63429a695cb2"
   },
   "outputs": [
    {
     "name": "stdout",
     "output_type": "stream",
     "text": [
      "Cloning into 'sent2vec'...\n",
      "remote: Enumerating objects: 11, done.\u001b[K\n",
      "remote: Counting objects:   9% (1/11)\u001b[K\r",
      "remote: Counting objects:  18% (2/11)\u001b[K\r",
      "remote: Counting objects:  27% (3/11)\u001b[K\r",
      "remote: Counting objects:  36% (4/11)\u001b[K\r",
      "remote: Counting objects:  45% (5/11)\u001b[K\r",
      "remote: Counting objects:  54% (6/11)\u001b[K\r",
      "remote: Counting objects:  63% (7/11)\u001b[K\r",
      "remote: Counting objects:  72% (8/11)\u001b[K\r",
      "remote: Counting objects:  81% (9/11)\u001b[K\r",
      "remote: Counting objects:  90% (10/11)\u001b[K\r",
      "remote: Counting objects: 100% (11/11)\u001b[K\r",
      "remote: Counting objects: 100% (11/11), done.\u001b[K\n",
      "remote: Compressing objects:  11% (1/9)\u001b[K\r",
      "remote: Compressing objects:  22% (2/9)\u001b[K\r",
      "remote: Compressing objects:  33% (3/9)\u001b[K\r",
      "remote: Compressing objects:  44% (4/9)\u001b[K\r",
      "remote: Compressing objects:  55% (5/9)\u001b[K\r",
      "remote: Compressing objects:  66% (6/9)\u001b[K\r",
      "remote: Compressing objects:  77% (7/9)\u001b[K\r",
      "remote: Compressing objects:  88% (8/9)\u001b[K\r",
      "remote: Compressing objects: 100% (9/9)\u001b[K\r",
      "remote: Compressing objects: 100% (9/9), done.\u001b[K\n",
      "Receiving objects:   0% (1/379)   \r",
      "Receiving objects:   1% (4/379)   \r",
      "Receiving objects:   2% (8/379)   \r",
      "Receiving objects:   3% (12/379)   \r",
      "Receiving objects:   4% (16/379)   \r",
      "Receiving objects:   5% (19/379)   \r",
      "Receiving objects:   6% (23/379)   \r",
      "Receiving objects:   7% (27/379)   \r",
      "Receiving objects:   8% (31/379)   \r",
      "Receiving objects:   9% (35/379)   \r",
      "Receiving objects:  10% (38/379)   \r",
      "Receiving objects:  11% (42/379)   \r",
      "Receiving objects:  12% (46/379)   \r",
      "Receiving objects:  13% (50/379)   \r",
      "Receiving objects:  14% (54/379)   \r",
      "Receiving objects:  15% (57/379)   \r",
      "Receiving objects:  16% (61/379)   \r",
      "Receiving objects:  17% (65/379)   \r",
      "Receiving objects:  18% (69/379)   \r",
      "Receiving objects:  19% (73/379)   \r",
      "Receiving objects:  20% (76/379)   \r",
      "Receiving objects:  21% (80/379)   \r",
      "Receiving objects:  22% (84/379)   \r",
      "Receiving objects:  23% (88/379)   \r",
      "Receiving objects:  24% (91/379)   \r",
      "Receiving objects:  25% (95/379)   \r",
      "Receiving objects:  26% (99/379)   \r",
      "Receiving objects:  27% (103/379)   \r",
      "Receiving objects:  28% (107/379)   \r",
      "Receiving objects:  29% (110/379)   \r",
      "Receiving objects:  30% (114/379)   \r",
      "Receiving objects:  31% (118/379)   \r",
      "Receiving objects:  32% (122/379)   \r",
      "Receiving objects:  33% (126/379)   \r",
      "Receiving objects:  34% (129/379)   \r",
      "Receiving objects:  35% (133/379)   \r",
      "Receiving objects:  36% (137/379)   \r",
      "Receiving objects:  37% (141/379)   \r",
      "Receiving objects:  38% (145/379)   \r",
      "Receiving objects:  39% (148/379)   \r",
      "Receiving objects:  40% (152/379)   \r",
      "Receiving objects:  41% (156/379)   \r",
      "Receiving objects:  42% (160/379)   \r",
      "remote: Total 379 (delta 3), reused 6 (delta 1), pack-reused 368\u001b[K\n",
      "Receiving objects:  43% (163/379)   \r",
      "Receiving objects:  44% (167/379)   \r",
      "Receiving objects:  45% (171/379)   \r",
      "Receiving objects:  46% (175/379)   \r",
      "Receiving objects:  47% (179/379)   \r",
      "Receiving objects:  48% (182/379)   \r",
      "Receiving objects:  49% (186/379)   \r",
      "Receiving objects:  50% (190/379)   \r",
      "Receiving objects:  51% (194/379)   \r",
      "Receiving objects:  52% (198/379)   \r",
      "Receiving objects:  53% (201/379)   \r",
      "Receiving objects:  54% (205/379)   \r",
      "Receiving objects:  55% (209/379)   \r",
      "Receiving objects:  56% (213/379)   \r",
      "Receiving objects:  57% (217/379)   \r",
      "Receiving objects:  58% (220/379)   \r",
      "Receiving objects:  59% (224/379)   \r",
      "Receiving objects:  60% (228/379)   \r",
      "Receiving objects:  61% (232/379)   \r",
      "Receiving objects:  62% (235/379)   \r",
      "Receiving objects:  63% (239/379)   \r",
      "Receiving objects:  64% (243/379)   \r",
      "Receiving objects:  65% (247/379)   \r",
      "Receiving objects:  66% (251/379)   \r",
      "Receiving objects:  67% (254/379)   \r",
      "Receiving objects:  68% (258/379)   \r",
      "Receiving objects:  69% (262/379)   \r",
      "Receiving objects:  70% (266/379)   \r",
      "Receiving objects:  71% (270/379)   \r",
      "Receiving objects:  72% (273/379)   \r",
      "Receiving objects:  73% (277/379)   \r",
      "Receiving objects:  74% (281/379)   \r",
      "Receiving objects:  75% (285/379)   \r",
      "Receiving objects:  76% (289/379)   \r",
      "Receiving objects:  77% (292/379)   \r",
      "Receiving objects:  78% (296/379)   \r",
      "Receiving objects:  79% (300/379)   \r",
      "Receiving objects:  80% (304/379)   \r",
      "Receiving objects:  81% (307/379)   \r",
      "Receiving objects:  82% (311/379)   \r",
      "Receiving objects:  83% (315/379)   \r",
      "Receiving objects:  84% (319/379)   \r",
      "Receiving objects:  85% (323/379)   \r",
      "Receiving objects:  86% (326/379)   \r",
      "Receiving objects:  87% (330/379)   \r",
      "Receiving objects:  88% (334/379)   \r",
      "Receiving objects:  89% (338/379)   \r",
      "Receiving objects:  90% (342/379)   \r",
      "Receiving objects:  91% (345/379)   \r",
      "Receiving objects:  92% (349/379)   \r",
      "Receiving objects:  93% (353/379)   \r",
      "Receiving objects:  94% (357/379)   \r",
      "Receiving objects:  95% (361/379)   \r",
      "Receiving objects:  96% (364/379)   \r",
      "Receiving objects:  97% (368/379)   \r",
      "Receiving objects:  98% (372/379)   \r",
      "Receiving objects:  99% (376/379)   \r",
      "Receiving objects: 100% (379/379)   \r",
      "Receiving objects: 100% (379/379), 446.78 KiB | 10.15 MiB/s, done.\n",
      "Resolving deltas:   0% (0/231)   \r",
      "Resolving deltas:   1% (3/231)   \r",
      "Resolving deltas:   3% (8/231)   \r",
      "Resolving deltas:   5% (12/231)   \r",
      "Resolving deltas:   7% (17/231)   \r",
      "Resolving deltas:   9% (23/231)   \r",
      "Resolving deltas:  10% (25/231)   \r",
      "Resolving deltas:  16% (37/231)   \r",
      "Resolving deltas:  22% (51/231)   \r",
      "Resolving deltas:  23% (54/231)   \r",
      "Resolving deltas:  24% (56/231)   \r",
      "Resolving deltas:  26% (61/231)   \r",
      "Resolving deltas:  28% (66/231)   \r",
      "Resolving deltas:  29% (67/231)   \r",
      "Resolving deltas:  35% (82/231)   \r",
      "Resolving deltas:  37% (86/231)   \r",
      "Resolving deltas:  38% (88/231)   \r",
      "Resolving deltas:  48% (111/231)   \r",
      "Resolving deltas:  49% (114/231)   \r",
      "Resolving deltas:  67% (157/231)   \r",
      "Resolving deltas:  69% (161/231)   \r",
      "Resolving deltas:  70% (163/231)   \r",
      "Resolving deltas:  71% (166/231)   \r",
      "Resolving deltas:  73% (169/231)   \r",
      "Resolving deltas:  78% (181/231)   \r",
      "Resolving deltas:  83% (193/231)   \r",
      "Resolving deltas:  84% (196/231)   \r",
      "Resolving deltas:  87% (201/231)   \r",
      "Resolving deltas:  88% (204/231)   \r",
      "Resolving deltas:  91% (212/231)   \r",
      "Resolving deltas:  94% (218/231)   \r",
      "Resolving deltas:  95% (220/231)   \r",
      "Resolving deltas:  97% (225/231)   \r",
      "Resolving deltas:  98% (227/231)   \r",
      "Resolving deltas: 100% (231/231)   \r",
      "Resolving deltas: 100% (231/231), done.\n",
      "c++ -pthread -std=c++0x -O3 -funroll-loops -c src/args.cc\n",
      "c++ -pthread -std=c++0x -O3 -funroll-loops -c src/dictionary.cc\n",
      "c++ -pthread -std=c++0x -O3 -funroll-loops -c src/productquantizer.cc\n",
      "c++ -pthread -std=c++0x -O3 -funroll-loops -c src/matrix.cc\n",
      "c++ -pthread -std=c++0x -O3 -funroll-loops -c src/shmem_matrix.cc\n",
      "c++ -pthread -std=c++0x -O3 -funroll-loops -c src/qmatrix.cc\n",
      "c++ -pthread -std=c++0x -O3 -funroll-loops -c src/vector.cc\n",
      "c++ -pthread -std=c++0x -O3 -funroll-loops -c src/model.cc\n",
      "c++ -pthread -std=c++0x -O3 -funroll-loops -c src/utils.cc\n",
      "c++ -pthread -std=c++0x -O3 -funroll-loops -c src/fasttext.cc\n",
      "c++ -pthread -std=c++0x -O3 -funroll-loops args.o dictionary.o productquantizer.o matrix.o shmem_matrix.o qmatrix.o vector.o model.o utils.o fasttext.o src/main.cc -o fasttext -lrt\n",
      "Processing /content/sent2vec\n",
      "Building wheels for collected packages: sent2vec\n",
      "  Building wheel for sent2vec (setup.py) ... \u001b[?25l\u001b[?25hdone\n",
      "  Created wheel for sent2vec: filename=sent2vec-0.0.0-cp36-cp36m-linux_x86_64.whl size=1125855 sha256=8d9eaa872a773d5885307f9845c9364b80c271fc2d40fe81883fbd59d7836b7d\n",
      "  Stored in directory: /tmp/pip-ephem-wheel-cache-77ym2_7g/wheels/b1/65/d7/f2c679e0086741bea69f0c4478303b6506bbf4c78dea82f565\n",
      "Successfully built sent2vec\n",
      "Installing collected packages: sent2vec\n",
      "Successfully installed sent2vec-0.0.0\n"
     ]
    }
   ],
   "source": [
    "## Install sent2vec\n",
    "## Installing sent2vec\n",
    "!git clone https://github.com/epfml/sent2vec.git\n",
    "!cd sent2vec &&  make && pip install . "
   ]
  },
  {
   "cell_type": "code",
   "execution_count": 0,
   "metadata": {
    "colab": {},
    "colab_type": "code",
    "id": "ylnKbLZFW6ZF"
   },
   "outputs": [],
   "source": [
    "## Load the sent2vec model into RAM\n",
    "import sent2vec\n",
    "model = sent2vec.Sent2vecModel()\n",
    "model.load_model( \"sent2vec_model.bin\" )"
   ]
  },
  {
   "cell_type": "markdown",
   "metadata": {
    "colab_type": "text",
    "id": "TOoo6AWy5AjU"
   },
   "source": [
    "Compute the embedding of each document in the database. "
   ]
  },
  {
   "cell_type": "code",
   "execution_count": 0,
   "metadata": {
    "colab": {},
    "colab_type": "code",
    "id": "7flrCKRt44k9"
   },
   "outputs": [],
   "source": [
    "### Compute the embedding of each document in the database\n",
    "\"\"\"\n",
    "Note that this database should be first cleaned by tokenization, then used to compute embedding\n",
    "Since here we want to use title as query to search abstracts, abstracts can be treated as the database, and titles can\n",
    "be treated as query set.\n",
    "\"\"\"\n",
    "title_list , abstract_list = zip(*ds)\n",
    "doc_embeddings = []\n",
    "for doc in abstract_list:\n",
    "    doc_embeddings.append( model.embed_sentence( doc ) )\n",
    "doc_embeddings = np.concatenate( doc_embeddings, axis = 0 )"
   ]
  },
  {
   "cell_type": "code",
   "execution_count": 0,
   "metadata": {
    "colab": {
     "base_uri": "https://localhost:8080/",
     "height": 34
    },
    "colab_type": "code",
    "id": "ytXuk0nI7oZ1",
    "outputId": "3b7cd852-8a37-47d7-dd8e-8a74c45300ee"
   },
   "outputs": [
    {
     "name": "stdout",
     "output_type": "stream",
     "text": [
      "(10000, 400)\n"
     ]
    }
   ],
   "source": [
    "print(doc_embeddings.shape)"
   ]
  },
  {
   "cell_type": "markdown",
   "metadata": {
    "colab_type": "text",
    "id": "WeEWb1CMAlIl"
   },
   "source": [
    "In this example, we want to use cosine similarity as the distance metric to perform KNN search. <br>\n",
    "Given to vectors $a$ and $b$, the cosine simarity between them is $\\frac{a^T b}{\\|a\\|\\|b\\|}$. If both $a$ and $b$ are normalized, then the cosine simarity is simply vector dot product $a^Tb$"
   ]
  },
  {
   "cell_type": "code",
   "execution_count": 0,
   "metadata": {
    "colab": {},
    "colab_type": "code",
    "id": "yxsLmzAjAbTd"
   },
   "outputs": [],
   "source": [
    "# normalize the doc_embeddings\n",
    "normalized_embeddings = doc_embeddings\n",
    "# In case that there are zero vectors in the embedding matrix, we only normalize the non-zero vectors in the embedding matrix\n",
    "non_zero_indices = np.logical_not( np.all( normalized_embeddings == 0 , axis = 1 ) )\n",
    "normalized_embeddings[ non_zero_indices ] = normalized_embeddings[ non_zero_indices ]/np.linalg.norm( normalized_embeddings[ non_zero_indices ], axis =1, keepdims=True )"
   ]
  },
  {
   "cell_type": "markdown",
   "metadata": {
    "colab_type": "text",
    "id": "qxlZwFO1CSNb"
   },
   "source": [
    "Perform ranking given a query text. For each query, first compute its embedding and perform K nearest neighbor search in the coprus embedding space."
   ]
  },
  {
   "cell_type": "code",
   "execution_count": 0,
   "metadata": {
    "colab": {},
    "colab_type": "code",
    "id": "3OgrnXsNCJN0"
   },
   "outputs": [],
   "source": [
    "## pick up a query\n",
    "query = title_list[0]\n",
    "## tokenize and compute its embedding, since here query is already tokenized, we can skip tokenization.\n",
    "query_embedding = model.embed_sentence(query)\n",
    "## normalize the query embedding\n",
    "if not np.all( query_embedding ==0  ):\n",
    "    normalized_query_embedding = query_embedding/np.linalg.norm( query_embedding, axis =1, keepdims=True )\n",
    "else:\n",
    "    normalized_query_embedding = query_embedding\n",
    "\n",
    "## compute the cosine the similarity between the query embedding and each document embedding in the database\n",
    "similarity_list = np.dot( normalized_embeddings,  normalized_query_embedding[0] ) \n",
    "## find top 20 documents which have highest cosine similairty to the query\n",
    "Knn_ids = np.argsort( -similarity_list )[:20]"
   ]
  },
  {
   "cell_type": "code",
   "execution_count": 0,
   "metadata": {
    "colab": {
     "base_uri": "https://localhost:8080/",
     "height": 68
    },
    "colab_type": "code",
    "id": "oN_hDiXeEG8j",
    "outputId": "686c5c7e-c581-4fc1-954f-43bfb12fb66d"
   },
   "outputs": [
    {
     "name": "stdout",
     "output_type": "stream",
     "text": [
      "Query ID:\t0\n",
      "20 closest documents ids: [   0  141  306  363  700 7804  386  660  432  796 7825  708  737  749\n",
      "  316  200  309  585   19   15]\n"
     ]
    }
   ],
   "source": [
    "print(\"Query ID:\\t%d\"%( 0 ))\n",
    "print(\"20 closest documents ids:\", Knn_ids  )"
   ]
  },
  {
   "cell_type": "markdown",
   "metadata": {
    "colab_type": "text",
    "id": "prso_xvUFjZD"
   },
   "source": [
    "**(Your Task) Evaluation of Performance**"
   ]
  },
  {
   "cell_type": "code",
   "execution_count": 0,
   "metadata": {
    "colab": {},
    "colab_type": "code",
    "id": "Hmz_2rQiFGrM"
   },
   "outputs": [],
   "source": [
    "############## TODO  ###############\n",
    "\"\"\"\n",
    "Evaluate the performance of sent2vec KNN using M@L score and M distribution.\n",
    "\"\"\"\n",
    "\n",
    "\n",
    "\n",
    "\n",
    "\n",
    "\n",
    "\n",
    "\n",
    "\n",
    "\n",
    "\n",
    "\n",
    "\n",
    "####################################"
   ]
  },
  {
   "cell_type": "markdown",
   "metadata": {
    "colab_type": "text",
    "id": "j384ynbSFud7"
   },
   "source": [
    "#### Hybrid Search ( Keyword boolean filter + embedding based KNN )"
   ]
  },
  {
   "cell_type": "markdown",
   "metadata": {
    "colab_type": "text",
    "id": "jBxnWSiHGbIf"
   },
   "source": [
    "The hybrid search mainly contains two step:<br>\n",
    "1. Keyword boolean filtering. Given a certain keyword, search from the database, only select the documents which contain that keyword;\n",
    "2. In the selected document subset, perform K nearest neighbor search using sent2vec embeddings.\n",
    "\n",
    "To perform these operations, there are a few questions to be considered: <br>\n",
    "1. To perform keyword based filtering, we need a \"inverted index\". An inverted index is a dictionary in which for each word, an id list of documents which contain that word in recorded. <br>\n",
    "Given this inverted index, we can perform keyword filtering in multiple ways. For example 1)get all the documents which contain the word \"computer\"; 2) get all the documents which contain both \"computer\" and \"science\"; 3) get all the documents which contain either \"computer\" or \"science\".\n",
    "2. Selection of keywords in the case where no keywords are provided."
   ]
  },
  {
   "cell_type": "markdown",
   "metadata": {
    "colab_type": "text",
    "id": "a9ylzrXzKRff"
   },
   "source": [
    "##### Computation of inverted index"
   ]
  },
  {
   "cell_type": "markdown",
   "metadata": {
    "colab_type": "text",
    "id": "Xp2Wh-_1LDrA"
   },
   "source": [
    "We need to used the abstracts to build our inverted index"
   ]
  },
  {
   "cell_type": "code",
   "execution_count": 0,
   "metadata": {
    "colab": {
     "base_uri": "https://localhost:8080/",
     "height": 34
    },
    "colab_type": "code",
    "id": "fGnPYeh-GVlq",
    "outputId": "974e2e06-bafc-492e-e443-2d46913b1e08"
   },
   "outputs": [
    {
     "name": "stderr",
     "output_type": "stream",
     "text": [
      "100%|██████████| 10000/10000 [00:29<00:00, 341.22it/s]\n"
     ]
    }
   ],
   "source": [
    "import nltk\n",
    "from nltk import RegexpTokenizer\n",
    "tokenizer = RegexpTokenizer( \"\\w+\" )\n",
    "from nltk.stem.snowball import SnowballStemmer\n",
    "def preprocessor_tokenizer(s):\n",
    "    s = s.lower()\n",
    "    s_list=tokenizer.tokenize(s)\n",
    "    ## The usage of stemmer is to merge words with the same stem into one word. \n",
    "    ## For example \"playing\" will be converted to \"play\" insted of being treated as an independent word.\n",
    "    ## This can help to control the vocabulary size of inverted index, especially when the corpus is large.\n",
    "    stemmer = SnowballStemmer('english')\n",
    "    s_list=[stemmer.stem(word) for word in s_list]\n",
    "    return s_list\n",
    "def addDocUnigrams(index, doc_id, doc_tokens):\n",
    "    unique_words_in_doc=set()\n",
    "    for word in doc_tokens:\n",
    "        if word not in unique_words_in_doc:\n",
    "            if word not in index:\n",
    "                index[word]=np.asarray([], dtype=np.uint32)\n",
    "            index[word]=np.append(index[word], np.asarray(doc_id, dtype=np.uint32))\n",
    "            unique_words_in_doc.add(word)\n",
    "\n",
    "## create the inverted index for the abstracts corpus\n",
    "title_list , abstract_list = zip(*ds)\n",
    "inverted_index = dict()\n",
    "doc_id = 0\n",
    "for doc in tqdm(abstract_list):\n",
    "    addDocUnigrams( inverted_index, doc_id, preprocessor_tokenizer( doc ) )\n",
    "    doc_id +=1"
   ]
  },
  {
   "cell_type": "markdown",
   "metadata": {
    "colab_type": "text",
    "id": "C96WnUbgUXrS"
   },
   "source": [
    "Note: when we use this inverted index, the keywords should also be preprocessed by the same tokenizer as the one used for building the inverted index."
   ]
  },
  {
   "cell_type": "code",
   "execution_count": 0,
   "metadata": {
    "colab": {
     "base_uri": "https://localhost:8080/",
     "height": 204
    },
    "colab_type": "code",
    "id": "nvChl58kPdbK",
    "outputId": "1c9c72d3-bc7e-4dd2-a883-12e65bf703a6"
   },
   "outputs": [
    {
     "name": "stdout",
     "output_type": "stream",
     "text": [
      "case1:\n",
      " [   2    5   15 ... 9253 9274 9310]\n",
      "case2:\n",
      " [  42  507  533  862 1120 1180 1367 1570 1659 2188 2200 2254 2257 2263\n",
      " 2266 2517 2625 2673 2738 2819 2916 2939 2940 2952 2986 4257 4326 4543\n",
      " 5563 5789 6633 6674 6783 6954 6960 7073 7100 7166 7241 7387 7631 8158\n",
      " 8542]\n",
      "case3:\n",
      " [  42  862 1120 1180 1570 1659 2188 2200 2266 2819 2916 4257 7241 7387]\n",
      "case4:\n",
      " [   2    5   15 ... 9253 9274 9310]\n"
     ]
    }
   ],
   "source": [
    "# Now we have the inverted index, and we can perform the boolean filtering described above.\n",
    "# case 1: get all document ids which contains the word \"health\":\n",
    "doc_ids1 = inverted_index.get( \"health\", np.array([],np.uint32) )\n",
    "print(\"case1:\\n\",doc_ids1)\n",
    "# case 2: get all document ids which contains the word \"sleep\":\n",
    "doc_ids2 = inverted_index.get( \"sleep\", np.array([],np.uint32) )\n",
    "print(\"case2:\\n\",doc_ids2)\n",
    "# case 3: get all document ids which contains both \"health\" and \"sleep\":\n",
    "doc_ids3 =  np.intersect1d( doc_ids1, doc_ids2  )\n",
    "print(\"case3:\\n\",doc_ids3)\n",
    "# case 3: get all document ids which contains either \"health\" or \"sleep\":\n",
    "doc_ids4 =  np.union1d(  doc_ids1, doc_ids2  )\n",
    "print(\"case4:\\n\",doc_ids4)"
   ]
  },
  {
   "cell_type": "markdown",
   "metadata": {
    "colab_type": "text",
    "id": "mmz6Yzw4TFiC"
   },
   "source": [
    "##### Selection of Keyword(s)"
   ]
  },
  {
   "cell_type": "markdown",
   "metadata": {
    "colab_type": "text",
    "id": "_lYiDJ2AT4WJ"
   },
   "source": [
    "In the case where no keywords are provided, we can extract keyword(s) using TF-IDF score. <br>"
   ]
  },
  {
   "cell_type": "code",
   "execution_count": 0,
   "metadata": {
    "colab": {
     "base_uri": "https://localhost:8080/",
     "height": 54
    },
    "colab_type": "code",
    "id": "jKUvClSqRoY9",
    "outputId": "590b94aa-3785-4243-9547-2754ba56dcb0"
   },
   "outputs": [
    {
     "name": "stdout",
     "output_type": "stream",
     "text": [
      "['studi', 'of', 'genet', 'variat', 'of', 'leishmania', 'major', 'base', 'on', 'intern', 'transcrib', 'spacer', '1', 'its1', 'in', 'chabahar', 'iran']\n"
     ]
    }
   ],
   "source": [
    "## given a query\n",
    "query = title_list[0]\n",
    "tokenized_query = preprocessor_tokenizer(query)\n",
    "print( tokenized_query )"
   ]
  },
  {
   "cell_type": "code",
   "execution_count": 0,
   "metadata": {
    "colab": {},
    "colab_type": "code",
    "id": "7RQ-KznYUMIV"
   },
   "outputs": [],
   "source": [
    "def select_keywords( tokenized_query, inverted_index, N, m ):\n",
    "    \"\"\"\n",
    "    N is the total number of documents in the corpus\n",
    "    m is the number of keywords to be selected\n",
    "    \"\"\"\n",
    "    unique_token_occurance = {}\n",
    "    ## for each unique token in the query, count its occurance in the query, which is used for compute the term frequency.\n",
    "    for token in tokenized_query:\n",
    "        unique_token_occurance[token] = unique_token_occurance.get( token, 0 ) +1\n",
    "    assert m <= len( unique_token_occurance )\n",
    "    tfidf_score_list = []\n",
    "    unique_token_list = list(unique_token_occurance.keys())\n",
    "    for token in unique_token_list:\n",
    "        ## compute term frequency\n",
    "        tf = unique_token_occurance[token]/ len(tokenized_query)\n",
    "        ## compute the inverse document frequency\n",
    "        idf = np.log( N/ ( len( inverted_index.get( token, np.array([], np.uint32) ) ) +1 ) )\n",
    "        tfidf_score_list.append(tf*idf)\n",
    "    \n",
    "    ## select m keywords with highest tf-idf score\n",
    "    selected_token_ids = np.argsort( tfidf_score_list)[::-1][:m]\n",
    "    return [  unique_token_list[idx] for idx in  selected_token_ids ]"
   ]
  },
  {
   "cell_type": "code",
   "execution_count": 0,
   "metadata": {
    "colab": {
     "base_uri": "https://localhost:8080/",
     "height": 34
    },
    "colab_type": "code",
    "id": "jsDVrj2mWYvV",
    "outputId": "347e15cf-5228-480f-a821-4d88d4560139"
   },
   "outputs": [
    {
     "name": "stdout",
     "output_type": "stream",
     "text": [
      "['chabahar', 'its1', 'leishmania']\n"
     ]
    }
   ],
   "source": [
    "## keyword selection\n",
    "N = len( abstract_list )\n",
    "selected_keywords = select_keywords( tokenized_query, inverted_index, N, 3  )\n",
    "print(selected_keywords)"
   ]
  },
  {
   "cell_type": "markdown",
   "metadata": {
    "colab_type": "text",
    "id": "twBhCF-KZEjI"
   },
   "source": [
    "**(Your Task) Implementing the Hybrid search & Evaluation Performance**"
   ]
  },
  {
   "cell_type": "code",
   "execution_count": 0,
   "metadata": {
    "colab": {},
    "colab_type": "code",
    "id": "W5KAEVsQY0GS"
   },
   "outputs": [],
   "source": [
    "########################## TODO ########################\n",
    "\"\"\"\n",
    "1. Given a query, preprocessing it and select keyword(s);\n",
    "2. Use the selected keywords and the inverted index to perform boolean filtering\n",
    "3. In the filtered subset of documents, perform K nearest neighbor search using sent2vec embedding\n",
    "4. Evaluate the performance using M@L score and M distribution\n",
    "\n",
    "Note: try different varations of keyword selection, e.g, the number of keywords used; \n",
    "      try different way of boolean filtering logic, e.g \"AND\" logic and \"OR\" logical;\n",
    "      check which setting can acheive the best performance.\n",
    "\"\"\"\n",
    "\n",
    "\n",
    "\n",
    "\n",
    "\n",
    "\n",
    "\n",
    "\n",
    "##########################################################"
   ]
  },
  {
   "cell_type": "code",
   "execution_count": 0,
   "metadata": {
    "colab": {},
    "colab_type": "code",
    "id": "ZSlCHMSm8aVH"
   },
   "outputs": [],
   "source": []
  },
  {
   "cell_type": "code",
   "execution_count": 0,
   "metadata": {
    "colab": {},
    "colab_type": "code",
    "id": "0oCrTosz8aY8"
   },
   "outputs": [],
   "source": []
  },
  {
   "cell_type": "markdown",
   "metadata": {
    "colab_type": "text",
    "id": "7TFHXAU88ZZy"
   },
   "source": [
    "### Example code of using the embedding-based ranking engine, keyword based filtering engine and hybrid search engine."
   ]
  },
  {
   "cell_type": "markdown",
   "metadata": {
    "colab_type": "text",
    "id": "3L2k6aye8vrG"
   },
   "source": [
    "For project II, you are required to perform search using the whole Pubmed dataset which contains 2.7 million papers. It will cost large RAM usuage if you perform BM25 search, compute KNN using embedding, or compute the inverted index. <br>\n",
    "For your convenience, we provide you with a server, where you can:\n",
    "1. Given a query, search for K nearest papers using BM25 from the Pubmed dataset. (You will receive a id list of papers so that you can check which papers are searched locally);\n",
    "2. Given a query, search for K nearest papers using sent2vec embedding based K nearest neighbor search.\n",
    "3. Given a keyword or a set of keywords, perform boolean filtering.\n",
    "4. Hybrid search given a query and a set of keywords.\n",
    "\n",
    "**NOTE: in the examples below, the address for the server could change over time. We will update it should this happen.**"
   ]
  },
  {
   "cell_type": "code",
   "execution_count": 0,
   "metadata": {
    "colab": {},
    "colab_type": "code",
    "id": "tYi_Sffl-tir"
   },
   "outputs": [],
   "source": [
    "import requests, json"
   ]
  },
  {
   "cell_type": "markdown",
   "metadata": {
    "colab_type": "text",
    "id": "6UYQLFxf-uxu"
   },
   "source": [
    "#### embedding based ranking engine example"
   ]
  },
  {
   "cell_type": "code",
   "execution_count": 0,
   "metadata": {
    "colab": {},
    "colab_type": "code",
    "id": "OVg_dSgk-zMX"
   },
   "outputs": [],
   "source": [
    "def get_embedding_based_ranked_id(query):\n",
    "    real_query = {'ranking_variable': query}\n",
    "    headers = {'Content-Type':'application/json'}\n",
    "    r = requests.post(\"http://0.tcp.ngrok.io:11984/neuralsystems2020/embedding-ranking\", headers=headers, data=json.dumps(real_query))\n",
    "    return json.loads(r.text)[\"response\"]"
   ]
  },
  {
   "cell_type": "code",
   "execution_count": 0,
   "metadata": {
    "colab": {
     "base_uri": "https://localhost:8080/",
     "height": 51
    },
    "colab_type": "code",
    "id": "YfwwMMKGETfc",
    "outputId": "4bbe22c6-62c0-4b31-a59b-a46d5d828302"
   },
   "outputs": [
    {
     "name": "stdout",
     "output_type": "stream",
     "text": [
      "number of returned IDs: 999\n",
      "[2095539, 2547253, 486569, 267209, 2625228, 978155, 922276, 1368837, 796163, 2454334]\n"
     ]
    }
   ],
   "source": [
    "# You will get the ids of top 999 nearest neighbors \n",
    "ranked_id = get_embedding_based_ranked_id( \"birds sing when they are happy\" )\n",
    "print(\"number of returned IDs:\", len(ranked_id) )\n",
    "print( ranked_id[:10] )"
   ]
  },
  {
   "cell_type": "markdown",
   "metadata": {
    "colab_type": "text",
    "id": "VYxnXJLxArKP"
   },
   "source": [
    "**Note:** This returned id is value of of each document in the \"doc_id\" filed. (check the section: \"read the text file\")"
   ]
  },
  {
   "cell_type": "markdown",
   "metadata": {
    "colab_type": "text",
    "id": "pDKKgmTm_Ket"
   },
   "source": [
    "#### keyword based filtering engine example"
   ]
  },
  {
   "cell_type": "code",
   "execution_count": 0,
   "metadata": {
    "colab": {},
    "colab_type": "code",
    "id": "_QbABqZU_OWM"
   },
   "outputs": [],
   "source": [
    "def boolean_filter(keyword):\n",
    "    query = {'keywords': keyword}\n",
    "    headers = {'Content-Type':'application/json'}\n",
    "    r = requests.post(\"http://0.tcp.ngrok.io:11984/neuralsystems2020/keyword-filtering\", headers=headers, data=json.dumps(query))\n",
    "    return  json.loads(r.text)[\"response\"]"
   ]
  },
  {
   "cell_type": "code",
   "execution_count": 0,
   "metadata": {
    "colab": {
     "base_uri": "https://localhost:8080/",
     "height": 34
    },
    "colab_type": "code",
    "id": "1Nb50vL5Fj1o",
    "outputId": "f75146f4-3ab3-431c-8473-17e21273f1e5"
   },
   "outputs": [
    {
     "name": "stdout",
     "output_type": "stream",
     "text": [
      "If both methods are identical? True\n"
     ]
    }
   ],
   "source": [
    "## find all doc ids which contains \"zebra\" and \"finch\"\n",
    "#method 1:\n",
    "filtered_doc_ids = boolean_filter(\"zebra finch\")\n",
    "#method 2:\n",
    "filtered_doc_ids_1 = boolean_filter(\"zebra\")\n",
    "filtered_doc_ids_2 = boolean_filter(\"finch\")\n",
    "filtered_doc_ids_insersection = np.intersect1d(np.array(filtered_doc_ids_1), np.array(filtered_doc_ids_2)  )\n",
    "\n",
    "# those two methods are equivalent\n",
    "print( \"If both methods are identical?\",  np.all(  np.array(filtered_doc_ids)== filtered_doc_ids_insersection ) )\n",
    "\n",
    "## find all doc ids which contains either \"zebra finch\" or \"computer science\"\n",
    "filtered_doc_ids_1 = boolean_filter(\"zebra finch\")\n",
    "filtered_doc_ids_2 = boolean_filter(\"computer science\")\n",
    "filtered_doc_ids_union = np.union1d(np.array(filtered_doc_ids_1), np.array(filtered_doc_ids_2)  )\n",
    "\n",
    "\n",
    "## find all doc ids which must contain 1:\"zebra\", 2:\"finch\" or \"bird\", and 3: not contain \"mouse\"\n",
    "filtered_doc_ids = boolean_filter(\"zebra finch|bird !mouse\")\n",
    "\n",
    "## you can try more variations and combinations!"
   ]
  },
  {
   "cell_type": "markdown",
   "metadata": {
    "colab_type": "text",
    "id": "38o91oiHB_je"
   },
   "source": [
    "**Note:** In project II, one usage of this boolean_filter function is to compute the TF-IDF score to select keywords from the query. In this case, the total number of documents can be set to 2.7*10^6, which is roughly the size of the pubmed dataset. \n"
   ]
  },
  {
   "cell_type": "markdown",
   "metadata": {
    "colab_type": "text",
    "id": "Q3qMx7vCIen3"
   },
   "source": [
    "#### hybrid search engine example"
   ]
  },
  {
   "cell_type": "code",
   "execution_count": 0,
   "metadata": {
    "colab": {},
    "colab_type": "code",
    "id": "pOpWCiIjDt-z"
   },
   "outputs": [],
   "source": [
    "def hybrid_search( query_text, keywords):\n",
    "    ## query text is used for embedding based ranking\n",
    "    ## keywords are used for boolean filtering\n",
    "    query = {'ranking_variable': query_text, 'keywords': keywords}\n",
    "    headers = {'Content-Type':'application/json'}\n",
    "    r = requests.post(\"http://0.tcp.ngrok.io:11984/neuralsystems2020/hybrid-search\", headers=headers, data=json.dumps(query))\n",
    "    return json.loads(r.text)[\"response\"]"
   ]
  },
  {
   "cell_type": "code",
   "execution_count": 0,
   "metadata": {
    "colab": {},
    "colab_type": "code",
    "id": "aOAmtpDwI6Pm"
   },
   "outputs": [],
   "source": [
    "searched_ids = hybrid_search( 'birds sing when they are happy', 'zebra finch|bird !mouse'  )"
   ]
  },
  {
   "cell_type": "markdown",
   "metadata": {
    "colab_type": "text",
    "id": "SSQUj4WTJuWh"
   },
   "source": [
    "You can use keyword based filtering engine, and embedding based ranking engine to implement the keyword selection methods and compare the results with the hybrid search engine. Use these tools to solve the problem in Project II."
   ]
  },
  {
   "cell_type": "code",
   "execution_count": 0,
   "metadata": {
    "colab": {},
    "colab_type": "code",
    "id": "vNchOTUQKL43"
   },
   "outputs": [],
   "source": []
  },
  {
   "cell_type": "markdown",
   "metadata": {
    "colab_type": "text",
    "id": "JiT2pCsL_pRs"
   },
   "source": [
    "### Example Code on PDF parser"
   ]
  },
  {
   "cell_type": "markdown",
   "metadata": {
    "colab_type": "text",
    "id": "D9stOfVe_tWi"
   },
   "source": [
    "In project II, you will need first parse and preprocess PDF files. To convert PDF in text file, one option is the PDFminer library. Check out the documentation at: https://pypi.org/project/pdfminer/"
   ]
  },
  {
   "cell_type": "code",
   "execution_count": 0,
   "metadata": {
    "colab": {},
    "colab_type": "code",
    "id": "tHVy8LAL_sp4"
   },
   "outputs": [],
   "source": []
  }
 ],
 "metadata": {
  "colab": {
   "collapsed_sections": [],
   "machine_shape": "hm",
   "name": "Tutorial_on_text_retrieval.ipynb",
   "provenance": [],
   "toc_visible": true
  },
  "kernelspec": {
   "display_name": "Python 3",
   "language": "python",
   "name": "python3"
  },
  "language_info": {
   "codemirror_mode": {
    "name": "ipython",
    "version": 3
   },
   "file_extension": ".py",
   "mimetype": "text/x-python",
   "name": "python",
   "nbconvert_exporter": "python",
   "pygments_lexer": "ipython3",
   "version": "3.5.3"
  }
 },
 "nbformat": 4,
 "nbformat_minor": 1
}
